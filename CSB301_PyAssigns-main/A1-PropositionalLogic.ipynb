{
 "cells": [
  {
   "cell_type": "markdown",
   "metadata": {},
   "source": [
    "## Assignment 2 - Propositional Logic"
   ]
  },
  {
   "cell_type": "markdown",
   "metadata": {},
   "source": [
    "### 1: Convert the following into logic notation using Python with SymPy. Use both standard notation and using function calls such as Or, And, Implies format as well.\n",
    "1. y or (not x and y)\n",
    "2. a implies b\n",
    "3. (m or not n) and (r or not s)"
   ]
  },
  {
   "cell_type": "code",
   "execution_count": 1,
   "metadata": {},
   "outputs": [],
   "source": [
    "from sympy import *"
   ]
  },
  {
   "cell_type": "code",
   "execution_count": 2,
   "metadata": {},
   "outputs": [
    {
     "ename": "NameError",
     "evalue": "name 'y' is not defined",
     "output_type": "error",
     "traceback": [
      "\u001b[0;31m---------------------------------------------------------------------------\u001b[0m",
      "\u001b[0;31mNameError\u001b[0m                                 Traceback (most recent call last)",
      "Cell \u001b[0;32mIn[2], line 3\u001b[0m\n\u001b[1;32m      1\u001b[0m \u001b[38;5;66;03m# 1a. y or (not x and y) standard\u001b[39;00m\n\u001b[0;32m----> 3\u001b[0m y \u001b[38;5;129;01mor\u001b[39;00m (\u001b[38;5;129;01mnot\u001b[39;00m x \u001b[38;5;129;01mand\u001b[39;00m y)\n",
      "\u001b[0;31mNameError\u001b[0m: name 'y' is not defined"
     ]
    }
   ],
   "source": [
    "# 1a. y or (not x and y) standard\n",
    "\n",
    "y or (not x and y)"
   ]
  },
  {
   "cell_type": "code",
   "execution_count": 5,
   "metadata": {},
   "outputs": [],
   "source": [
    "# 1b. y or (not x and y) function calls\n",
    "# this function represents the negation of x\n",
    "def AND(a, b):\n",
    "    return a and b\n",
    "\n",
    "def OR(a, b):\n",
    "    return a or b\n",
    "\n",
    "def NOT(a):\n",
    "    return not a\n",
    "\n",
    "OR(y, AND(NOT(x), y))"
   ]
  },
  {
   "cell_type": "markdown",
   "metadata": {},
   "source": []
  },
  {
   "cell_type": "code",
   "execution_count": 6,
   "metadata": {},
   "outputs": [],
   "source": [
    "# 2a. a implies b standard\n",
    "not a or b"
   ]
  },
  {
   "cell_type": "code",
   "execution_count": 7,
   "metadata": {},
   "outputs": [],
   "source": [
    "# 2b. a implies b function calls\n",
    "def NOT(a):\n",
    "    return not a\n",
    "\n",
    "def OR(a, b):\n",
    "    return a or b\n",
    "\n",
    "OR(NOT(a), b)"
   ]
  },
  {
   "cell_type": "code",
   "execution_count": 8,
   "metadata": {},
   "outputs": [],
   "source": [
    "# 3a. (m or not n) and (r or not s) standard\n",
    "(m or not n) and (r or not s)"
   ]
  },
  {
   "cell_type": "code",
   "execution_count": 9,
   "metadata": {},
   "outputs": [],
   "source": [
    "# 3b. (m or not n) and (r or not s) function calls\n",
    "def check_conditions(m, n, r, s):\n",
    "    return (m or not n) and (r or not s)"
   ]
  },
  {
   "cell_type": "markdown",
   "metadata": {},
   "source": [
    "### 2: Now create the code for the following and substitute the given true or false values. You can use either format, but keep in mind some of them may require function calls format.\n",
    "1. y or x. y = False, x = True\n",
    "2. (a implies b) or m. a = False, b = True, m = True\n",
    "3. (m or n) and (a or (b and c)). m = True, n = False, a = False, b = True, c = False"
   ]
  },
  {
   "cell_type": "code",
   "execution_count": 10,
   "metadata": {},
   "outputs": [],
   "source": [
    "# 1. y | x, y = False, x = True\n",
    "x = True    \n",
    "y = False    \n",
    "\n",
    "result = y | x  \n",
    "print(result) \n",
    "\n",
    "# Substitute the given values y = False and x = True into the expression\n",
    "result = False | True"
   ]
  },
  {
   "cell_type": "code",
   "execution_count": 12,
   "metadata": {},
   "outputs": [],
   "source": [
    "# 2. (a implies b) or m. a = False, b = True, m = True\n",
    "a = False\n",
    "b = True\n",
    "m = True\n",
    "\n",
    "result = (not a or b) or m\n",
    "print(result)\n",
    "\n",
    "# Substitute the given values a = False, b = True, and m = True into the expression\n",
    "result = (not False or True) or True"
   ]
  },
  {
   "cell_type": "code",
   "execution_count": 14,
   "metadata": {},
   "outputs": [],
   "source": [
    "# 3. (m or n) and (a or (b and c)). m = True, n = False, a = False, b = True, c = False\n",
    "m = True\n",
    "n = False\n",
    "a = False\n",
    "b = True\n",
    "c = False\n",
    "\n",
    "result = (m or n) and (a or (b and c))\n",
    "print(result)\n",
    "\n",
    "# Substitute the given values m = True, n = False, a = False, b = True, and c = False into the expression\n",
    "(True or False) and (False or (True and False))"
   ]
  },
  {
   "cell_type": "code",
   "execution_count": null,
   "metadata": {},
   "outputs": [],
   "source": []
  },
  {
   "cell_type": "markdown",
   "metadata": {},
   "source": [
    "### 3: Create the truth tables for:\n",
    "1. Conjunction\n",
    "2. Disjunction\n",
    "3. Implication\n",
    "4. Exclusive Disjunction\n",
    "5. Truth Table for (y and z) or (not w and not x)\n",
    "\n",
    "There are many ways to do this. You can do it without SymPy, or use SymPy's truth table import and you are free to get as complex as you want. Use x and y variables.\n"
   ]
  },
  {
   "cell_type": "code",
   "execution_count": 15,
   "metadata": {},
   "outputs": [],
   "source": [
    "#  Conjunction Truth Table\n",
    "# Create a truth table for conjunction (AND)\n",
    "print(\"P\\tQ\\tP AND Q\")\n",
    "print(\"-----------------\")\n",
    "\n",
    "# Loop through all possible combinations of P and Q (True/False)\n",
    "for P in [True, False]:\n",
    "    for Q in [True, False]:\n",
    "        print(f\"{P}\\t{Q}\\t{P and Q}\")"
   ]
  },
  {
   "cell_type": "code",
   "execution_count": 16,
   "metadata": {},
   "outputs": [],
   "source": [
    "# Disjunction Truth Table\n",
    "print(\"P\\tQ\\tP OR Q\")\n",
    "print(\"-----------------\")\n",
    "\n",
    "# Loop through all possible combinations of P and Q (True/False)\n",
    "for P in [True, False]:\n",
    "    for Q in [True, False]:\n",
    "        print(f\"{P}\\t{Q}\\t{P or Q}\")"
   ]
  },
  {
   "cell_type": "code",
   "execution_count": 17,
   "metadata": {},
   "outputs": [],
   "source": [
    "# Implication Truth Table\n",
    "print(\"P\\tQ\\tP → Q\")\n",
    "print(\"-----------------\")\n",
    "\n",
    "# Loop through all possible combinations of P and Q (True/False)\n",
    "for P in [True, False]:\n",
    "    for Q in [True, False]:\n",
    "        # Implication (P → Q) is equivalent to (not P or Q)\n",
    "        print(f\"{P}\\t{Q}\\t{not P or Q}\")"
   ]
  },
  {
   "cell_type": "code",
   "execution_count": 18,
   "metadata": {},
   "outputs": [],
   "source": [
    "# Exclusive Disjunction Truth Table\n",
    "A = [False, False, True, True]\n",
    "B = [False, True, False, True]\n",
    "\n",
    "print(\"A     B     A ^ B (XOR)\")\n",
    "for a, b in zip(A, B):\n",
    "    print(f\"{a:<5} {b:<5} {a ^ b}\")"
   ]
  },
  {
   "cell_type": "code",
   "execution_count": 19,
   "metadata": {},
   "outputs": [],
   "source": [
    "# Truth Table for (y and z) or (not w and not x)\n",
    "y_values = [False, False, False, False, False, False, False, False, True, True, True, True, True, True, True, True]\n",
    "z_values = [False, False, False, False, True, True, True, True, False, False, False, False, True, True, True, True]\n",
    "w_values = [False, False, False, False, False, False, False, False, False, False, False, False, True, True, True, True]\n",
    "x_values = [False, True, False, True, False, True, False, True, False, True, False, True, False, True, False, True]\n",
    "\n",
    "print(\"y     z     w     x     y and z | not w | not x | not w and not x | (y and z) or (not w and not x)\")\n",
    "for y, z, w, x in zip(y_values, z_values, w_values, x_values):\n",
    "    y_and_z = y and z\n",
    "    not_w = not w\n",
    "    not_x = not x\n",
    "    not_w_and_not_x = not_w and not_x\n",
    "    result = y_and_z or not_w_and_not_x\n",
    "    print(f\"{y:<5} {z:<5} {w:<5} {x:<5} {y_and_z:<8} {not_w:<5} {not_x:<5} {not_w_and_not_x:<15} {result}\")"
   ]
  },
  {
   "cell_type": "markdown",
   "metadata": {},
   "source": []
  },
  {
   "cell_type": "markdown",
   "metadata": {},
   "source": [
    "### 4: Let p and q be the propositions as seen below:    \n",
    "p: You drive over 65 miles per hour.    \n",
    "q: You get a speeding ticket.     \n",
    "Write these propositions using p and q and logical connectives (including negations)\n",
    "1. You do not drive over 65 miles per hour.\n",
    "2. You will get a speeding ticket if you drive over 65 miles per hour.\n",
    "3. If you do not drive over 65 miles per hour, then you will not get a speeding ticket.\n",
    "4. You get a speeding ticket, but you do not drive over 65 miles per hour."
   ]
  },
  {
   "cell_type": "code",
   "execution_count": 20,
   "metadata": {},
   "outputs": [],
   "source": [
    "# 1 You do not drive over 65 miles per hour.\n",
    "p = True \n",
    "q = not p\n"
   ]
  },
  {
   "cell_type": "code",
   "execution_count": 21,
   "metadata": {},
   "outputs": [],
   "source": [
    "# 2 You will get a speeding ticket if you drive over 65 miles per hour.\n",
    "p = True  # You drive over 65 miles per hour\n",
    "q = False  # You will get a speeding ticket (assume False initially)\n",
    "\n",
    "if p:  # If you drive over 65 miles per hour\n",
    "    q = True  # Then you will get a speeding ticket"
   ]
  },
  {
   "cell_type": "code",
   "execution_count": 22,
   "metadata": {},
   "outputs": [],
   "source": [
    "# 3 If you do not drive over 65 miles per hour, then you will not get a speeding ticket.\n",
    "p = False  # You do not drive over 65 miles per hour\n",
    "q = False  # You will get a speeding ticket (initially assumed False)\n",
    "\n",
    "if not p:  # If you do not drive over 65 miles per hour\n",
    "    q = False  # Then you will not get a speeding ticket\n"
   ]
  },
  {
   "cell_type": "code",
   "execution_count": 23,
   "metadata": {},
   "outputs": [],
   "source": [
    "# 4 You get a speeding ticket, but you do not drive over 65 miles per hour.\n"
   ]
  }
 ],
 "metadata": {
  "kernelspec": {
   "display_name": ".venv",
   "language": "python",
   "name": "python3"
  },
  "language_info": {
   "codemirror_mode": {
    "name": "ipython",
    "version": 3
   },
   "file_extension": ".py",
   "mimetype": "text/x-python",
   "name": "python",
   "nbconvert_exporter": "python",
   "pygments_lexer": "ipython3",
   "version": "3.12.4"
  },
  "orig_nbformat": 4
 },
 "nbformat": 4,
 "nbformat_minor": 2
}
